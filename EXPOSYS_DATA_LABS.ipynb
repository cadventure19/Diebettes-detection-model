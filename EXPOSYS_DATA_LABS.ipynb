{
  "nbformat": 4,
  "nbformat_minor": 0,
  "metadata": {
    "colab": {
      "name": "EXPOSYS DATA LABS.ipynb",
      "provenance": []
    },
    "kernelspec": {
      "name": "python3",
      "display_name": "Python 3"
    },
    "language_info": {
      "name": "python"
    }
  },
  "cells": [
    {
      "cell_type": "markdown",
      "metadata": {
        "id": "6zzF279ANrc9"
      },
      "source": [
        "importing important libraries"
      ]
    },
    {
      "cell_type": "code",
      "metadata": {
        "id": "bbahg6x0K-lu"
      },
      "source": [
        "\n",
        "import pandas as pd\n",
        "import seaborn as sns\n",
        "import numpy as np\n",
        "import matplotlib.pyplot as plt\n",
        "import matplotlib as matplot\n",
        "\n",
        "import re\n",
        "import sklearn\n",
        "\n",
        "import warnings\n",
        "warnings.filterwarnings(\"ignore\")\n",
        "\n",
        "%matplotlib inline"
      ],
      "execution_count": 1,
      "outputs": []
    },
    {
      "cell_type": "code",
      "metadata": {
        "id": "j0_goAaFYRMD",
        "outputId": "304723ba-e211-4bc8-e927-54a7ffe7d79c",
        "colab": {
          "base_uri": "https://localhost:8080/"
        }
      },
      "source": [
        "print(pd.__version__)"
      ],
      "execution_count": 2,
      "outputs": [
        {
          "output_type": "stream",
          "text": [
            "1.1.5\n"
          ],
          "name": "stdout"
        }
      ]
    },
    {
      "cell_type": "markdown",
      "metadata": {
        "id": "Wn7FldGqN0VJ"
      },
      "source": [
        "dataset"
      ]
    },
    {
      "cell_type": "code",
      "metadata": {
        "id": "e4-7vcqXKxVE"
      },
      "source": [
        "url1 = 'https://raw.githubusercontent.com/cadventure19/Diebettes-detection-model/master/examination.csv'\n",
        "url2 = 'https://raw.githubusercontent.com/cadventure19/Diebettes-detection-model/master/labs.csv'\n",
        "df1 = pd.read_csv(url1)\n",
        "df2 = pd.read_csv(url2)"
      ],
      "execution_count": 3,
      "outputs": []
    },
    {
      "cell_type": "code",
      "metadata": {
        "id": "FLmztbdO0nNN"
      },
      "source": [
        "df1.drop(['SEQN'], axis = 1, inplace=True)\n",
        "df2.drop(['SEQN'], axis = 1, inplace=True)"
      ],
      "execution_count": 4,
      "outputs": []
    },
    {
      "cell_type": "code",
      "metadata": {
        "id": "qD7Ce6qc0kSp"
      },
      "source": [
        "df = pd.concat([df1, df2], axis=1, join='inner')"
      ],
      "execution_count": 5,
      "outputs": []
    },
    {
      "cell_type": "code",
      "metadata": {
        "colab": {
          "base_uri": "https://localhost:8080/",
          "height": 345
        },
        "id": "9d-TBS-6KzxZ",
        "outputId": "f0d147fc-1e84-42bc-bfbf-d38af4acd20c"
      },
      "source": [
        "df.describe()"
      ],
      "execution_count": 6,
      "outputs": [
        {
          "output_type": "execute_result",
          "data": {
            "text/html": [
              "<div>\n",
              "<style scoped>\n",
              "    .dataframe tbody tr th:only-of-type {\n",
              "        vertical-align: middle;\n",
              "    }\n",
              "\n",
              "    .dataframe tbody tr th {\n",
              "        vertical-align: top;\n",
              "    }\n",
              "\n",
              "    .dataframe thead th {\n",
              "        text-align: right;\n",
              "    }\n",
              "</style>\n",
              "<table border=\"1\" class=\"dataframe\">\n",
              "  <thead>\n",
              "    <tr style=\"text-align: right;\">\n",
              "      <th></th>\n",
              "      <th>PEASCST1</th>\n",
              "      <th>PEASCTM1</th>\n",
              "      <th>PEASCCT1</th>\n",
              "      <th>BPXCHR</th>\n",
              "      <th>BPAARM</th>\n",
              "      <th>BPACSZ</th>\n",
              "      <th>BPXPLS</th>\n",
              "      <th>BPXPULS</th>\n",
              "      <th>BPXPTY</th>\n",
              "      <th>BPXML1</th>\n",
              "      <th>BPXSY1</th>\n",
              "      <th>BPXDI1</th>\n",
              "      <th>BPAEN1</th>\n",
              "      <th>BPXSY2</th>\n",
              "      <th>BPXDI2</th>\n",
              "      <th>BPAEN2</th>\n",
              "      <th>BPXSY3</th>\n",
              "      <th>BPXDI3</th>\n",
              "      <th>BPAEN3</th>\n",
              "      <th>BPXSY4</th>\n",
              "      <th>BPXDI4</th>\n",
              "      <th>BPAEN4</th>\n",
              "      <th>BMDSTATS</th>\n",
              "      <th>BMXWT</th>\n",
              "      <th>BMIWT</th>\n",
              "      <th>BMXRECUM</th>\n",
              "      <th>BMIRECUM</th>\n",
              "      <th>BMXHEAD</th>\n",
              "      <th>BMIHEAD</th>\n",
              "      <th>BMXHT</th>\n",
              "      <th>BMIHT</th>\n",
              "      <th>BMXBMI</th>\n",
              "      <th>BMDBMIC</th>\n",
              "      <th>BMXLEG</th>\n",
              "      <th>BMILEG</th>\n",
              "      <th>BMXARML</th>\n",
              "      <th>BMIARML</th>\n",
              "      <th>BMXARMC</th>\n",
              "      <th>BMIARMC</th>\n",
              "      <th>BMXWAIST</th>\n",
              "      <th>...</th>\n",
              "      <th>URXUMMA</th>\n",
              "      <th>URDUMMAL</th>\n",
              "      <th>URXVOL1</th>\n",
              "      <th>URDFLOW1</th>\n",
              "      <th>URXVOL2</th>\n",
              "      <th>URDFLOW2</th>\n",
              "      <th>URXVOL3</th>\n",
              "      <th>URDFLOW3</th>\n",
              "      <th>URXUHG</th>\n",
              "      <th>URDUHGLC</th>\n",
              "      <th>URXUBA</th>\n",
              "      <th>URDUBALC</th>\n",
              "      <th>URXUCD</th>\n",
              "      <th>URDUCDLC</th>\n",
              "      <th>URXUCO</th>\n",
              "      <th>URDUCOLC</th>\n",
              "      <th>URXUCS</th>\n",
              "      <th>URDUCSLC</th>\n",
              "      <th>URXUMO</th>\n",
              "      <th>URDUMOLC</th>\n",
              "      <th>URXUMN</th>\n",
              "      <th>URDUMNLC</th>\n",
              "      <th>URXUPB</th>\n",
              "      <th>URDUPBLC</th>\n",
              "      <th>URXUSB</th>\n",
              "      <th>URDUSBLC</th>\n",
              "      <th>URXUSN</th>\n",
              "      <th>URDUSNLC</th>\n",
              "      <th>URXUSR</th>\n",
              "      <th>URDUSRLC</th>\n",
              "      <th>URXUTL</th>\n",
              "      <th>URDUTLLC</th>\n",
              "      <th>URXUTU</th>\n",
              "      <th>URDUTULC</th>\n",
              "      <th>URXUUR</th>\n",
              "      <th>URDUURLC</th>\n",
              "      <th>URXPREG</th>\n",
              "      <th>URXUAS</th>\n",
              "      <th>LBDB12</th>\n",
              "      <th>LBDB12SI</th>\n",
              "    </tr>\n",
              "  </thead>\n",
              "  <tbody>\n",
              "    <tr>\n",
              "      <th>count</th>\n",
              "      <td>9813.000000</td>\n",
              "      <td>9508.000000</td>\n",
              "      <td>320.000000</td>\n",
              "      <td>1961.000000</td>\n",
              "      <td>7535.000000</td>\n",
              "      <td>7542.000000</td>\n",
              "      <td>7549.000000</td>\n",
              "      <td>9511.000000</td>\n",
              "      <td>7564.000000</td>\n",
              "      <td>7553.000000</td>\n",
              "      <td>7172.000000</td>\n",
              "      <td>7172.000000</td>\n",
              "      <td>7539.000000</td>\n",
              "      <td>7409.000000</td>\n",
              "      <td>7409.000000</td>\n",
              "      <td>7537.000000</td>\n",
              "      <td>7408.000000</td>\n",
              "      <td>7408.000000</td>\n",
              "      <td>7537.000000</td>\n",
              "      <td>515.000000</td>\n",
              "      <td>515.000000</td>\n",
              "      <td>562.000000</td>\n",
              "      <td>9813.000000</td>\n",
              "      <td>9723.000000</td>\n",
              "      <td>384.000000</td>\n",
              "      <td>1065.000000</td>\n",
              "      <td>31.0</td>\n",
              "      <td>229.000000</td>\n",
              "      <td>0.0</td>\n",
              "      <td>9067.000000</td>\n",
              "      <td>221.000000</td>\n",
              "      <td>9055.000000</td>\n",
              "      <td>3523.000000</td>\n",
              "      <td>7402.000000</td>\n",
              "      <td>350.0</td>\n",
              "      <td>9301.000000</td>\n",
              "      <td>368.0</td>\n",
              "      <td>9301.000000</td>\n",
              "      <td>372.0</td>\n",
              "      <td>8661.000000</td>\n",
              "      <td>...</td>\n",
              "      <td>2654.000000</td>\n",
              "      <td>2654.000000</td>\n",
              "      <td>8057.000000</td>\n",
              "      <td>7150.000000</td>\n",
              "      <td>1856.000000</td>\n",
              "      <td>1855.000000</td>\n",
              "      <td>99.000000</td>\n",
              "      <td>99.000000</td>\n",
              "      <td>2666.000000</td>\n",
              "      <td>2666.000000</td>\n",
              "      <td>2664.000000</td>\n",
              "      <td>2664.000000</td>\n",
              "      <td>2664.000000</td>\n",
              "      <td>2664.000000</td>\n",
              "      <td>2664.000000</td>\n",
              "      <td>2664.000000</td>\n",
              "      <td>2664.000000</td>\n",
              "      <td>2664.0</td>\n",
              "      <td>2664.000000</td>\n",
              "      <td>2664.0</td>\n",
              "      <td>2664.000000</td>\n",
              "      <td>2664.000000</td>\n",
              "      <td>2664.000000</td>\n",
              "      <td>2664.000000</td>\n",
              "      <td>2664.000000</td>\n",
              "      <td>2664.000000</td>\n",
              "      <td>2664.000000</td>\n",
              "      <td>2664.000000</td>\n",
              "      <td>2664.000000</td>\n",
              "      <td>2664.000000</td>\n",
              "      <td>2664.000000</td>\n",
              "      <td>2664.000000</td>\n",
              "      <td>2664.000000</td>\n",
              "      <td>2664.000000</td>\n",
              "      <td>2664.000000</td>\n",
              "      <td>2664.000000</td>\n",
              "      <td>1261.000000</td>\n",
              "      <td>2662.000000</td>\n",
              "      <td>5316.000000</td>\n",
              "      <td>5316.000000</td>\n",
              "    </tr>\n",
              "    <tr>\n",
              "      <th>mean</th>\n",
              "      <td>1.064914</td>\n",
              "      <td>660.584034</td>\n",
              "      <td>57.828125</td>\n",
              "      <td>105.534931</td>\n",
              "      <td>1.008096</td>\n",
              "      <td>3.675418</td>\n",
              "      <td>74.416214</td>\n",
              "      <td>1.013668</td>\n",
              "      <td>1.004363</td>\n",
              "      <td>144.673640</td>\n",
              "      <td>118.123536</td>\n",
              "      <td>65.769939</td>\n",
              "      <td>1.988725</td>\n",
              "      <td>118.230530</td>\n",
              "      <td>65.237954</td>\n",
              "      <td>1.953960</td>\n",
              "      <td>117.999460</td>\n",
              "      <td>65.035637</td>\n",
              "      <td>1.963381</td>\n",
              "      <td>125.666019</td>\n",
              "      <td>69.013592</td>\n",
              "      <td>1.879004</td>\n",
              "      <td>1.139916</td>\n",
              "      <td>62.599054</td>\n",
              "      <td>2.966146</td>\n",
              "      <td>81.631174</td>\n",
              "      <td>1.0</td>\n",
              "      <td>41.566812</td>\n",
              "      <td>NaN</td>\n",
              "      <td>155.883759</td>\n",
              "      <td>2.647059</td>\n",
              "      <td>25.678244</td>\n",
              "      <td>2.488504</td>\n",
              "      <td>38.577709</td>\n",
              "      <td>1.0</td>\n",
              "      <td>33.141006</td>\n",
              "      <td>1.0</td>\n",
              "      <td>28.485765</td>\n",
              "      <td>1.0</td>\n",
              "      <td>87.272047</td>\n",
              "      <td>...</td>\n",
              "      <td>0.621420</td>\n",
              "      <td>0.295403</td>\n",
              "      <td>109.113069</td>\n",
              "      <td>0.907887</td>\n",
              "      <td>118.483297</td>\n",
              "      <td>1.255776</td>\n",
              "      <td>96.343434</td>\n",
              "      <td>1.775141</td>\n",
              "      <td>0.506489</td>\n",
              "      <td>0.335709</td>\n",
              "      <td>1.768477</td>\n",
              "      <td>0.002628</td>\n",
              "      <td>0.242220</td>\n",
              "      <td>0.181306</td>\n",
              "      <td>0.624201</td>\n",
              "      <td>0.000751</td>\n",
              "      <td>4.967304</td>\n",
              "      <td>0.0</td>\n",
              "      <td>56.102215</td>\n",
              "      <td>0.0</td>\n",
              "      <td>0.160595</td>\n",
              "      <td>0.695195</td>\n",
              "      <td>0.460113</td>\n",
              "      <td>0.010511</td>\n",
              "      <td>0.075613</td>\n",
              "      <td>0.224850</td>\n",
              "      <td>1.441414</td>\n",
              "      <td>0.094595</td>\n",
              "      <td>118.066184</td>\n",
              "      <td>0.000375</td>\n",
              "      <td>0.186950</td>\n",
              "      <td>0.007883</td>\n",
              "      <td>0.150535</td>\n",
              "      <td>0.162162</td>\n",
              "      <td>0.012038</td>\n",
              "      <td>0.177177</td>\n",
              "      <td>1.969072</td>\n",
              "      <td>15.670639</td>\n",
              "      <td>640.100263</td>\n",
              "      <td>472.394865</td>\n",
              "    </tr>\n",
              "    <tr>\n",
              "      <th>std</th>\n",
              "      <td>0.354007</td>\n",
              "      <td>275.431642</td>\n",
              "      <td>30.788160</td>\n",
              "      <td>21.516295</td>\n",
              "      <td>0.116644</td>\n",
              "      <td>0.786221</td>\n",
              "      <td>12.367969</td>\n",
              "      <td>0.116116</td>\n",
              "      <td>0.065911</td>\n",
              "      <td>36.583686</td>\n",
              "      <td>18.078149</td>\n",
              "      <td>14.960108</td>\n",
              "      <td>0.105589</td>\n",
              "      <td>18.181197</td>\n",
              "      <td>15.700239</td>\n",
              "      <td>0.209585</td>\n",
              "      <td>18.079852</td>\n",
              "      <td>16.233174</td>\n",
              "      <td>0.187838</td>\n",
              "      <td>22.608087</td>\n",
              "      <td>15.806398</td>\n",
              "      <td>0.326414</td>\n",
              "      <td>0.499377</td>\n",
              "      <td>32.331616</td>\n",
              "      <td>0.480861</td>\n",
              "      <td>14.219097</td>\n",
              "      <td>0.0</td>\n",
              "      <td>2.525734</td>\n",
              "      <td>NaN</td>\n",
              "      <td>23.176270</td>\n",
              "      <td>0.764171</td>\n",
              "      <td>7.955137</td>\n",
              "      <td>0.825881</td>\n",
              "      <td>4.047820</td>\n",
              "      <td>0.0</td>\n",
              "      <td>7.409420</td>\n",
              "      <td>0.0</td>\n",
              "      <td>7.961971</td>\n",
              "      <td>0.0</td>\n",
              "      <td>22.542605</td>\n",
              "      <td>...</td>\n",
              "      <td>0.688717</td>\n",
              "      <td>0.456310</td>\n",
              "      <td>82.487715</td>\n",
              "      <td>0.954769</td>\n",
              "      <td>93.150898</td>\n",
              "      <td>2.141072</td>\n",
              "      <td>83.380877</td>\n",
              "      <td>1.771576</td>\n",
              "      <td>2.041355</td>\n",
              "      <td>0.472326</td>\n",
              "      <td>3.004718</td>\n",
              "      <td>0.051203</td>\n",
              "      <td>0.364897</td>\n",
              "      <td>0.385344</td>\n",
              "      <td>1.782484</td>\n",
              "      <td>0.027395</td>\n",
              "      <td>3.143092</td>\n",
              "      <td>0.0</td>\n",
              "      <td>56.115836</td>\n",
              "      <td>0.0</td>\n",
              "      <td>0.485937</td>\n",
              "      <td>0.460411</td>\n",
              "      <td>0.766444</td>\n",
              "      <td>0.102000</td>\n",
              "      <td>0.141326</td>\n",
              "      <td>0.417562</td>\n",
              "      <td>4.711833</td>\n",
              "      <td>0.292709</td>\n",
              "      <td>182.793685</td>\n",
              "      <td>0.019375</td>\n",
              "      <td>0.133833</td>\n",
              "      <td>0.088452</td>\n",
              "      <td>0.576409</td>\n",
              "      <td>0.368669</td>\n",
              "      <td>0.034026</td>\n",
              "      <td>0.381890</td>\n",
              "      <td>0.251651</td>\n",
              "      <td>46.735936</td>\n",
              "      <td>751.967084</td>\n",
              "      <td>554.951537</td>\n",
              "    </tr>\n",
              "    <tr>\n",
              "      <th>min</th>\n",
              "      <td>1.000000</td>\n",
              "      <td>7.000000</td>\n",
              "      <td>1.000000</td>\n",
              "      <td>60.000000</td>\n",
              "      <td>1.000000</td>\n",
              "      <td>1.000000</td>\n",
              "      <td>40.000000</td>\n",
              "      <td>1.000000</td>\n",
              "      <td>1.000000</td>\n",
              "      <td>100.000000</td>\n",
              "      <td>66.000000</td>\n",
              "      <td>0.000000</td>\n",
              "      <td>1.000000</td>\n",
              "      <td>66.000000</td>\n",
              "      <td>0.000000</td>\n",
              "      <td>1.000000</td>\n",
              "      <td>62.000000</td>\n",
              "      <td>0.000000</td>\n",
              "      <td>1.000000</td>\n",
              "      <td>80.000000</td>\n",
              "      <td>0.000000</td>\n",
              "      <td>1.000000</td>\n",
              "      <td>1.000000</td>\n",
              "      <td>3.100000</td>\n",
              "      <td>1.000000</td>\n",
              "      <td>48.600000</td>\n",
              "      <td>1.0</td>\n",
              "      <td>33.800000</td>\n",
              "      <td>NaN</td>\n",
              "      <td>79.700000</td>\n",
              "      <td>1.000000</td>\n",
              "      <td>12.100000</td>\n",
              "      <td>1.000000</td>\n",
              "      <td>24.400000</td>\n",
              "      <td>1.0</td>\n",
              "      <td>9.900000</td>\n",
              "      <td>1.0</td>\n",
              "      <td>10.400000</td>\n",
              "      <td>1.0</td>\n",
              "      <td>40.200000</td>\n",
              "      <td>...</td>\n",
              "      <td>0.140000</td>\n",
              "      <td>0.000000</td>\n",
              "      <td>0.000000</td>\n",
              "      <td>0.000000</td>\n",
              "      <td>0.000000</td>\n",
              "      <td>0.000000</td>\n",
              "      <td>4.000000</td>\n",
              "      <td>0.042000</td>\n",
              "      <td>0.090000</td>\n",
              "      <td>0.000000</td>\n",
              "      <td>0.042000</td>\n",
              "      <td>0.000000</td>\n",
              "      <td>0.025000</td>\n",
              "      <td>0.000000</td>\n",
              "      <td>0.016000</td>\n",
              "      <td>0.000000</td>\n",
              "      <td>0.387000</td>\n",
              "      <td>0.0</td>\n",
              "      <td>1.430000</td>\n",
              "      <td>0.0</td>\n",
              "      <td>0.092000</td>\n",
              "      <td>0.000000</td>\n",
              "      <td>0.020000</td>\n",
              "      <td>0.000000</td>\n",
              "      <td>0.016000</td>\n",
              "      <td>0.000000</td>\n",
              "      <td>0.064000</td>\n",
              "      <td>0.000000</td>\n",
              "      <td>1.655000</td>\n",
              "      <td>0.000000</td>\n",
              "      <td>0.013000</td>\n",
              "      <td>0.000000</td>\n",
              "      <td>0.013000</td>\n",
              "      <td>0.000000</td>\n",
              "      <td>0.001400</td>\n",
              "      <td>0.000000</td>\n",
              "      <td>1.000000</td>\n",
              "      <td>0.280000</td>\n",
              "      <td>18.000000</td>\n",
              "      <td>13.300000</td>\n",
              "    </tr>\n",
              "    <tr>\n",
              "      <th>25%</th>\n",
              "      <td>1.000000</td>\n",
              "      <td>578.000000</td>\n",
              "      <td>56.000000</td>\n",
              "      <td>88.000000</td>\n",
              "      <td>1.000000</td>\n",
              "      <td>3.000000</td>\n",
              "      <td>66.000000</td>\n",
              "      <td>1.000000</td>\n",
              "      <td>1.000000</td>\n",
              "      <td>130.000000</td>\n",
              "      <td>106.000000</td>\n",
              "      <td>58.000000</td>\n",
              "      <td>2.000000</td>\n",
              "      <td>106.000000</td>\n",
              "      <td>58.000000</td>\n",
              "      <td>2.000000</td>\n",
              "      <td>106.000000</td>\n",
              "      <td>58.000000</td>\n",
              "      <td>2.000000</td>\n",
              "      <td>108.000000</td>\n",
              "      <td>60.000000</td>\n",
              "      <td>2.000000</td>\n",
              "      <td>1.000000</td>\n",
              "      <td>37.950000</td>\n",
              "      <td>3.000000</td>\n",
              "      <td>69.700000</td>\n",
              "      <td>1.0</td>\n",
              "      <td>39.700000</td>\n",
              "      <td>NaN</td>\n",
              "      <td>149.500000</td>\n",
              "      <td>3.000000</td>\n",
              "      <td>19.700000</td>\n",
              "      <td>2.000000</td>\n",
              "      <td>36.000000</td>\n",
              "      <td>1.0</td>\n",
              "      <td>30.500000</td>\n",
              "      <td>1.0</td>\n",
              "      <td>22.600000</td>\n",
              "      <td>1.0</td>\n",
              "      <td>71.200000</td>\n",
              "      <td>...</td>\n",
              "      <td>0.140000</td>\n",
              "      <td>0.000000</td>\n",
              "      <td>46.000000</td>\n",
              "      <td>0.375000</td>\n",
              "      <td>47.000000</td>\n",
              "      <td>0.475500</td>\n",
              "      <td>28.000000</td>\n",
              "      <td>0.539000</td>\n",
              "      <td>0.090000</td>\n",
              "      <td>0.000000</td>\n",
              "      <td>0.510000</td>\n",
              "      <td>0.000000</td>\n",
              "      <td>0.048000</td>\n",
              "      <td>0.000000</td>\n",
              "      <td>0.244000</td>\n",
              "      <td>0.000000</td>\n",
              "      <td>2.540000</td>\n",
              "      <td>0.0</td>\n",
              "      <td>20.430000</td>\n",
              "      <td>0.0</td>\n",
              "      <td>0.092000</td>\n",
              "      <td>0.000000</td>\n",
              "      <td>0.160000</td>\n",
              "      <td>0.000000</td>\n",
              "      <td>0.024000</td>\n",
              "      <td>0.000000</td>\n",
              "      <td>0.200000</td>\n",
              "      <td>0.000000</td>\n",
              "      <td>46.435000</td>\n",
              "      <td>0.000000</td>\n",
              "      <td>0.090000</td>\n",
              "      <td>0.000000</td>\n",
              "      <td>0.028000</td>\n",
              "      <td>0.000000</td>\n",
              "      <td>0.002600</td>\n",
              "      <td>0.000000</td>\n",
              "      <td>2.000000</td>\n",
              "      <td>3.210000</td>\n",
              "      <td>381.000000</td>\n",
              "      <td>281.200000</td>\n",
              "    </tr>\n",
              "    <tr>\n",
              "      <th>50%</th>\n",
              "      <td>1.000000</td>\n",
              "      <td>689.000000</td>\n",
              "      <td>56.000000</td>\n",
              "      <td>102.000000</td>\n",
              "      <td>1.000000</td>\n",
              "      <td>4.000000</td>\n",
              "      <td>74.000000</td>\n",
              "      <td>1.000000</td>\n",
              "      <td>1.000000</td>\n",
              "      <td>140.000000</td>\n",
              "      <td>116.000000</td>\n",
              "      <td>66.000000</td>\n",
              "      <td>2.000000</td>\n",
              "      <td>116.000000</td>\n",
              "      <td>66.000000</td>\n",
              "      <td>2.000000</td>\n",
              "      <td>114.000000</td>\n",
              "      <td>68.000000</td>\n",
              "      <td>2.000000</td>\n",
              "      <td>126.000000</td>\n",
              "      <td>70.000000</td>\n",
              "      <td>2.000000</td>\n",
              "      <td>1.000000</td>\n",
              "      <td>65.300000</td>\n",
              "      <td>3.000000</td>\n",
              "      <td>82.800000</td>\n",
              "      <td>1.0</td>\n",
              "      <td>41.800000</td>\n",
              "      <td>NaN</td>\n",
              "      <td>162.000000</td>\n",
              "      <td>3.000000</td>\n",
              "      <td>24.700000</td>\n",
              "      <td>2.000000</td>\n",
              "      <td>38.600000</td>\n",
              "      <td>1.0</td>\n",
              "      <td>35.500000</td>\n",
              "      <td>1.0</td>\n",
              "      <td>29.300000</td>\n",
              "      <td>1.0</td>\n",
              "      <td>87.800000</td>\n",
              "      <td>...</td>\n",
              "      <td>0.480000</td>\n",
              "      <td>0.000000</td>\n",
              "      <td>86.000000</td>\n",
              "      <td>0.647000</td>\n",
              "      <td>87.000000</td>\n",
              "      <td>0.821000</td>\n",
              "      <td>73.000000</td>\n",
              "      <td>0.981000</td>\n",
              "      <td>0.200000</td>\n",
              "      <td>0.000000</td>\n",
              "      <td>1.020000</td>\n",
              "      <td>0.000000</td>\n",
              "      <td>0.120500</td>\n",
              "      <td>0.000000</td>\n",
              "      <td>0.434000</td>\n",
              "      <td>0.000000</td>\n",
              "      <td>4.320000</td>\n",
              "      <td>0.0</td>\n",
              "      <td>41.315000</td>\n",
              "      <td>0.0</td>\n",
              "      <td>0.092000</td>\n",
              "      <td>1.000000</td>\n",
              "      <td>0.300000</td>\n",
              "      <td>0.000000</td>\n",
              "      <td>0.047000</td>\n",
              "      <td>0.000000</td>\n",
              "      <td>0.460000</td>\n",
              "      <td>0.000000</td>\n",
              "      <td>87.575000</td>\n",
              "      <td>0.000000</td>\n",
              "      <td>0.159000</td>\n",
              "      <td>0.000000</td>\n",
              "      <td>0.069000</td>\n",
              "      <td>0.000000</td>\n",
              "      <td>0.005100</td>\n",
              "      <td>0.000000</td>\n",
              "      <td>2.000000</td>\n",
              "      <td>6.240000</td>\n",
              "      <td>514.000000</td>\n",
              "      <td>379.300000</td>\n",
              "    </tr>\n",
              "    <tr>\n",
              "      <th>75%</th>\n",
              "      <td>1.000000</td>\n",
              "      <td>832.000000</td>\n",
              "      <td>72.000000</td>\n",
              "      <td>120.000000</td>\n",
              "      <td>1.000000</td>\n",
              "      <td>4.000000</td>\n",
              "      <td>82.000000</td>\n",
              "      <td>1.000000</td>\n",
              "      <td>1.000000</td>\n",
              "      <td>150.000000</td>\n",
              "      <td>128.000000</td>\n",
              "      <td>76.000000</td>\n",
              "      <td>2.000000</td>\n",
              "      <td>128.000000</td>\n",
              "      <td>74.000000</td>\n",
              "      <td>2.000000</td>\n",
              "      <td>128.000000</td>\n",
              "      <td>74.000000</td>\n",
              "      <td>2.000000</td>\n",
              "      <td>140.000000</td>\n",
              "      <td>78.000000</td>\n",
              "      <td>2.000000</td>\n",
              "      <td>1.000000</td>\n",
              "      <td>83.500000</td>\n",
              "      <td>3.000000</td>\n",
              "      <td>93.200000</td>\n",
              "      <td>1.0</td>\n",
              "      <td>43.500000</td>\n",
              "      <td>NaN</td>\n",
              "      <td>171.050000</td>\n",
              "      <td>3.000000</td>\n",
              "      <td>30.200000</td>\n",
              "      <td>3.000000</td>\n",
              "      <td>41.300000</td>\n",
              "      <td>1.0</td>\n",
              "      <td>38.100000</td>\n",
              "      <td>1.0</td>\n",
              "      <td>34.000000</td>\n",
              "      <td>1.0</td>\n",
              "      <td>102.800000</td>\n",
              "      <td>...</td>\n",
              "      <td>0.840000</td>\n",
              "      <td>1.000000</td>\n",
              "      <td>150.000000</td>\n",
              "      <td>1.110000</td>\n",
              "      <td>170.000000</td>\n",
              "      <td>1.632500</td>\n",
              "      <td>138.500000</td>\n",
              "      <td>2.659500</td>\n",
              "      <td>0.470000</td>\n",
              "      <td>1.000000</td>\n",
              "      <td>2.040000</td>\n",
              "      <td>0.000000</td>\n",
              "      <td>0.279250</td>\n",
              "      <td>0.000000</td>\n",
              "      <td>0.708000</td>\n",
              "      <td>0.000000</td>\n",
              "      <td>6.660000</td>\n",
              "      <td>0.0</td>\n",
              "      <td>73.900000</td>\n",
              "      <td>0.0</td>\n",
              "      <td>0.140000</td>\n",
              "      <td>1.000000</td>\n",
              "      <td>0.520000</td>\n",
              "      <td>0.000000</td>\n",
              "      <td>0.084000</td>\n",
              "      <td>0.000000</td>\n",
              "      <td>1.142500</td>\n",
              "      <td>0.000000</td>\n",
              "      <td>150.830000</td>\n",
              "      <td>0.000000</td>\n",
              "      <td>0.252000</td>\n",
              "      <td>0.000000</td>\n",
              "      <td>0.150000</td>\n",
              "      <td>0.000000</td>\n",
              "      <td>0.010700</td>\n",
              "      <td>0.000000</td>\n",
              "      <td>2.000000</td>\n",
              "      <td>12.435000</td>\n",
              "      <td>711.000000</td>\n",
              "      <td>524.700000</td>\n",
              "    </tr>\n",
              "    <tr>\n",
              "      <th>max</th>\n",
              "      <td>3.000000</td>\n",
              "      <td>2868.000000</td>\n",
              "      <td>122.000000</td>\n",
              "      <td>178.000000</td>\n",
              "      <td>8.000000</td>\n",
              "      <td>5.000000</td>\n",
              "      <td>180.000000</td>\n",
              "      <td>2.000000</td>\n",
              "      <td>2.000000</td>\n",
              "      <td>888.000000</td>\n",
              "      <td>228.000000</td>\n",
              "      <td>122.000000</td>\n",
              "      <td>2.000000</td>\n",
              "      <td>230.000000</td>\n",
              "      <td>116.000000</td>\n",
              "      <td>2.000000</td>\n",
              "      <td>228.000000</td>\n",
              "      <td>118.000000</td>\n",
              "      <td>2.000000</td>\n",
              "      <td>212.000000</td>\n",
              "      <td>128.000000</td>\n",
              "      <td>2.000000</td>\n",
              "      <td>4.000000</td>\n",
              "      <td>222.600000</td>\n",
              "      <td>4.000000</td>\n",
              "      <td>115.100000</td>\n",
              "      <td>1.0</td>\n",
              "      <td>46.800000</td>\n",
              "      <td>NaN</td>\n",
              "      <td>202.600000</td>\n",
              "      <td>3.000000</td>\n",
              "      <td>82.900000</td>\n",
              "      <td>4.000000</td>\n",
              "      <td>51.900000</td>\n",
              "      <td>1.0</td>\n",
              "      <td>47.900000</td>\n",
              "      <td>1.0</td>\n",
              "      <td>59.400000</td>\n",
              "      <td>1.0</td>\n",
              "      <td>177.900000</td>\n",
              "      <td>...</td>\n",
              "      <td>17.000000</td>\n",
              "      <td>1.000000</td>\n",
              "      <td>552.000000</td>\n",
              "      <td>26.000000</td>\n",
              "      <td>452.000000</td>\n",
              "      <td>76.667000</td>\n",
              "      <td>383.000000</td>\n",
              "      <td>10.923000</td>\n",
              "      <td>83.030000</td>\n",
              "      <td>1.000000</td>\n",
              "      <td>60.110000</td>\n",
              "      <td>1.000000</td>\n",
              "      <td>5.060000</td>\n",
              "      <td>1.000000</td>\n",
              "      <td>75.800000</td>\n",
              "      <td>1.000000</td>\n",
              "      <td>29.000000</td>\n",
              "      <td>0.0</td>\n",
              "      <td>1200.000000</td>\n",
              "      <td>0.0</td>\n",
              "      <td>18.950000</td>\n",
              "      <td>1.000000</td>\n",
              "      <td>23.400000</td>\n",
              "      <td>1.000000</td>\n",
              "      <td>4.230000</td>\n",
              "      <td>1.000000</td>\n",
              "      <td>90.970000</td>\n",
              "      <td>1.000000</td>\n",
              "      <td>7565.490000</td>\n",
              "      <td>1.000000</td>\n",
              "      <td>1.290000</td>\n",
              "      <td>1.000000</td>\n",
              "      <td>25.760000</td>\n",
              "      <td>1.000000</td>\n",
              "      <td>0.843400</td>\n",
              "      <td>1.000000</td>\n",
              "      <td>3.000000</td>\n",
              "      <td>1071.300000</td>\n",
              "      <td>26801.000000</td>\n",
              "      <td>19779.100000</td>\n",
              "    </tr>\n",
              "  </tbody>\n",
              "</table>\n",
              "<p>8 rows × 617 columns</p>\n",
              "</div>"
            ],
            "text/plain": [
              "          PEASCST1     PEASCTM1  ...        LBDB12      LBDB12SI\n",
              "count  9813.000000  9508.000000  ...   5316.000000   5316.000000\n",
              "mean      1.064914   660.584034  ...    640.100263    472.394865\n",
              "std       0.354007   275.431642  ...    751.967084    554.951537\n",
              "min       1.000000     7.000000  ...     18.000000     13.300000\n",
              "25%       1.000000   578.000000  ...    381.000000    281.200000\n",
              "50%       1.000000   689.000000  ...    514.000000    379.300000\n",
              "75%       1.000000   832.000000  ...    711.000000    524.700000\n",
              "max       3.000000  2868.000000  ...  26801.000000  19779.100000\n",
              "\n",
              "[8 rows x 617 columns]"
            ]
          },
          "metadata": {
            "tags": []
          },
          "execution_count": 6
        }
      ]
    },
    {
      "cell_type": "code",
      "metadata": {
        "colab": {
          "base_uri": "https://localhost:8080/"
        },
        "id": "FHLFirvXP-GZ",
        "outputId": "a77ce634-f07c-4e6b-bf76-c6809d3d1c23"
      },
      "source": [
        "df.columns"
      ],
      "execution_count": 7,
      "outputs": [
        {
          "output_type": "execute_result",
          "data": {
            "text/plain": [
              "Index(['PEASCST1', 'PEASCTM1', 'PEASCCT1', 'BPXCHR', 'BPAARM', 'BPACSZ',\n",
              "       'BPXPLS', 'BPXPULS', 'BPXPTY', 'BPXML1',\n",
              "       ...\n",
              "       'URXUTL', 'URDUTLLC', 'URXUTU', 'URDUTULC', 'URXUUR', 'URDUURLC',\n",
              "       'URXPREG', 'URXUAS', 'LBDB12', 'LBDB12SI'],\n",
              "      dtype='object', length=646)"
            ]
          },
          "metadata": {
            "tags": []
          },
          "execution_count": 7
        }
      ]
    },
    {
      "cell_type": "code",
      "metadata": {
        "id": "tU6JZ6olKz1X"
      },
      "source": [
        "from sklearn.feature_selection import VarianceThreshold\n",
        "\n",
        "df.dropna(axis=1, how='all')\n",
        "df.dropna(axis=0, how='all')\n",
        "\n",
        "df = df.rename(columns = {\n",
        "                          'BMXARMC' : 'ArmCircum',\n",
        "                          'BMDAVSAD' : 'SaggitalAbdominal',\n",
        "                          'MGDCGSZ' : 'GripStrength',\n",
        "                         })"
      ],
      "execution_count": 8,
      "outputs": []
    },
    {
      "cell_type": "markdown",
      "metadata": {
        "id": "tahXRrwhN9E2"
      },
      "source": [
        "Features selected for analysis"
      ]
    },
    {
      "cell_type": "code",
      "metadata": {
        "colab": {
          "base_uri": "https://localhost:8080/",
          "height": 296
        },
        "id": "pZPnLwGu1NO2",
        "outputId": "747556e6-31ff-4063-87fe-8fc9bcda9843"
      },
      "source": [
        "from sklearn.feature_selection import VarianceThreshold\n",
        "\n",
        "df.dropna(axis=1, how='all')\n",
        "df.dropna(axis=0, how='all')\n",
        "\n",
        "df = df.rename(columns = {\n",
        "                          'LBXGH' : 'GlycoHemoglobin',\n",
        "                          'BMXARMC' : 'ArmCircum',\n",
        "                          'BMDAVSAD' : 'SaggitalAbdominal',\n",
        "                          'MGDCGSZ' : 'GripStrength'})\n",
        "\n",
        "df = df.loc[:, ['GlycoHemoglobin', 'ArmCircum', \n",
        "                'SaggitalAbdominal', 'GripStrength']]\n",
        "\n",
        "df.describe()"
      ],
      "execution_count": 9,
      "outputs": [
        {
          "output_type": "execute_result",
          "data": {
            "text/html": [
              "<div>\n",
              "<style scoped>\n",
              "    .dataframe tbody tr th:only-of-type {\n",
              "        vertical-align: middle;\n",
              "    }\n",
              "\n",
              "    .dataframe tbody tr th {\n",
              "        vertical-align: top;\n",
              "    }\n",
              "\n",
              "    .dataframe thead th {\n",
              "        text-align: right;\n",
              "    }\n",
              "</style>\n",
              "<table border=\"1\" class=\"dataframe\">\n",
              "  <thead>\n",
              "    <tr style=\"text-align: right;\">\n",
              "      <th></th>\n",
              "      <th>GlycoHemoglobin</th>\n",
              "      <th>ArmCircum</th>\n",
              "      <th>SaggitalAbdominal</th>\n",
              "      <th>GripStrength</th>\n",
              "    </tr>\n",
              "  </thead>\n",
              "  <tbody>\n",
              "    <tr>\n",
              "      <th>count</th>\n",
              "      <td>6643.000000</td>\n",
              "      <td>9301.000000</td>\n",
              "      <td>7218.000000</td>\n",
              "      <td>7677.000000</td>\n",
              "    </tr>\n",
              "    <tr>\n",
              "      <th>mean</th>\n",
              "      <td>5.642556</td>\n",
              "      <td>28.485765</td>\n",
              "      <td>21.114034</td>\n",
              "      <td>63.054891</td>\n",
              "    </tr>\n",
              "    <tr>\n",
              "      <th>std</th>\n",
              "      <td>1.004850</td>\n",
              "      <td>7.961971</td>\n",
              "      <td>4.963949</td>\n",
              "      <td>25.098439</td>\n",
              "    </tr>\n",
              "    <tr>\n",
              "      <th>min</th>\n",
              "      <td>3.500000</td>\n",
              "      <td>10.400000</td>\n",
              "      <td>10.100000</td>\n",
              "      <td>8.000000</td>\n",
              "    </tr>\n",
              "    <tr>\n",
              "      <th>25%</th>\n",
              "      <td>5.200000</td>\n",
              "      <td>22.600000</td>\n",
              "      <td>17.300000</td>\n",
              "      <td>45.600000</td>\n",
              "    </tr>\n",
              "    <tr>\n",
              "      <th>50%</th>\n",
              "      <td>5.400000</td>\n",
              "      <td>29.300000</td>\n",
              "      <td>20.700000</td>\n",
              "      <td>60.300000</td>\n",
              "    </tr>\n",
              "    <tr>\n",
              "      <th>75%</th>\n",
              "      <td>5.800000</td>\n",
              "      <td>34.000000</td>\n",
              "      <td>24.400000</td>\n",
              "      <td>80.700000</td>\n",
              "    </tr>\n",
              "    <tr>\n",
              "      <th>max</th>\n",
              "      <td>17.500000</td>\n",
              "      <td>59.400000</td>\n",
              "      <td>40.100000</td>\n",
              "      <td>162.800000</td>\n",
              "    </tr>\n",
              "  </tbody>\n",
              "</table>\n",
              "</div>"
            ],
            "text/plain": [
              "       GlycoHemoglobin    ArmCircum  SaggitalAbdominal  GripStrength\n",
              "count      6643.000000  9301.000000        7218.000000   7677.000000\n",
              "mean          5.642556    28.485765          21.114034     63.054891\n",
              "std           1.004850     7.961971           4.963949     25.098439\n",
              "min           3.500000    10.400000          10.100000      8.000000\n",
              "25%           5.200000    22.600000          17.300000     45.600000\n",
              "50%           5.400000    29.300000          20.700000     60.300000\n",
              "75%           5.800000    34.000000          24.400000     80.700000\n",
              "max          17.500000    59.400000          40.100000    162.800000"
            ]
          },
          "metadata": {
            "tags": []
          },
          "execution_count": 9
        }
      ]
    },
    {
      "cell_type": "markdown",
      "metadata": {
        "id": "HdXHBgC4OFkj"
      },
      "source": [
        "Filling up blank values"
      ]
    },
    {
      "cell_type": "code",
      "metadata": {
        "colab": {
          "base_uri": "https://localhost:8080/",
          "height": 296
        },
        "id": "8UQ-ZhlZKz-Z",
        "outputId": "ce86ed08-45f4-42d3-b39a-c76428f195a4"
      },
      "source": [
        "#GlycoHemoglobin, Saggital Abdominal(median)\n",
        "df['GlycoHemoglobin'] = df['GlycoHemoglobin'].fillna(df['GlycoHemoglobin'].median())\n",
        "df['ArmCircum'] = df['ArmCircum'].fillna(df['ArmCircum'].median())\n",
        "df['SaggitalAbdominal'] = df['SaggitalAbdominal'].fillna(df['SaggitalAbdominal'].median())\n",
        "df['GripStrength'] = df['GripStrength'].fillna(df['GripStrength'].median())\n",
        "df.describe()"
      ],
      "execution_count": 10,
      "outputs": [
        {
          "output_type": "execute_result",
          "data": {
            "text/html": [
              "<div>\n",
              "<style scoped>\n",
              "    .dataframe tbody tr th:only-of-type {\n",
              "        vertical-align: middle;\n",
              "    }\n",
              "\n",
              "    .dataframe tbody tr th {\n",
              "        vertical-align: top;\n",
              "    }\n",
              "\n",
              "    .dataframe thead th {\n",
              "        text-align: right;\n",
              "    }\n",
              "</style>\n",
              "<table border=\"1\" class=\"dataframe\">\n",
              "  <thead>\n",
              "    <tr style=\"text-align: right;\">\n",
              "      <th></th>\n",
              "      <th>GlycoHemoglobin</th>\n",
              "      <th>ArmCircum</th>\n",
              "      <th>SaggitalAbdominal</th>\n",
              "      <th>GripStrength</th>\n",
              "    </tr>\n",
              "  </thead>\n",
              "  <tbody>\n",
              "    <tr>\n",
              "      <th>count</th>\n",
              "      <td>9813.000000</td>\n",
              "      <td>9813.000000</td>\n",
              "      <td>9813.000000</td>\n",
              "      <td>9813.000000</td>\n",
              "    </tr>\n",
              "    <tr>\n",
              "      <th>mean</th>\n",
              "      <td>5.564201</td>\n",
              "      <td>28.528248</td>\n",
              "      <td>21.004545</td>\n",
              "      <td>62.455233</td>\n",
              "    </tr>\n",
              "    <tr>\n",
              "      <th>std</th>\n",
              "      <td>0.834491</td>\n",
              "      <td>7.753571</td>\n",
              "      <td>4.261142</td>\n",
              "      <td>22.228196</td>\n",
              "    </tr>\n",
              "    <tr>\n",
              "      <th>min</th>\n",
              "      <td>3.500000</td>\n",
              "      <td>10.400000</td>\n",
              "      <td>10.100000</td>\n",
              "      <td>8.000000</td>\n",
              "    </tr>\n",
              "    <tr>\n",
              "      <th>25%</th>\n",
              "      <td>5.300000</td>\n",
              "      <td>23.200000</td>\n",
              "      <td>18.500000</td>\n",
              "      <td>50.300000</td>\n",
              "    </tr>\n",
              "    <tr>\n",
              "      <th>50%</th>\n",
              "      <td>5.400000</td>\n",
              "      <td>29.300000</td>\n",
              "      <td>20.700000</td>\n",
              "      <td>60.300000</td>\n",
              "    </tr>\n",
              "    <tr>\n",
              "      <th>75%</th>\n",
              "      <td>5.600000</td>\n",
              "      <td>33.800000</td>\n",
              "      <td>22.900000</td>\n",
              "      <td>73.300000</td>\n",
              "    </tr>\n",
              "    <tr>\n",
              "      <th>max</th>\n",
              "      <td>17.500000</td>\n",
              "      <td>59.400000</td>\n",
              "      <td>40.100000</td>\n",
              "      <td>162.800000</td>\n",
              "    </tr>\n",
              "  </tbody>\n",
              "</table>\n",
              "</div>"
            ],
            "text/plain": [
              "       GlycoHemoglobin    ArmCircum  SaggitalAbdominal  GripStrength\n",
              "count      9813.000000  9813.000000        9813.000000   9813.000000\n",
              "mean          5.564201    28.528248          21.004545     62.455233\n",
              "std           0.834491     7.753571           4.261142     22.228196\n",
              "min           3.500000    10.400000          10.100000      8.000000\n",
              "25%           5.300000    23.200000          18.500000     50.300000\n",
              "50%           5.400000    29.300000          20.700000     60.300000\n",
              "75%           5.600000    33.800000          22.900000     73.300000\n",
              "max          17.500000    59.400000          40.100000    162.800000"
            ]
          },
          "metadata": {
            "tags": []
          },
          "execution_count": 10
        }
      ]
    },
    {
      "cell_type": "code",
      "metadata": {
        "colab": {
          "base_uri": "https://localhost:8080/",
          "height": 1000
        },
        "id": "DelRPC4_kafm",
        "outputId": "1a8ffe8c-b3ba-4ba3-c7e3-77e795688aed"
      },
      "source": [
        "p = df.hist(figsize = (20,20))\n",
        "p"
      ],
      "execution_count": 11,
      "outputs": [
        {
          "output_type": "execute_result",
          "data": {
            "text/plain": [
              "array([[<matplotlib.axes._subplots.AxesSubplot object at 0x7f6664ef2f10>,\n",
              "        <matplotlib.axes._subplots.AxesSubplot object at 0x7f6664f2af10>],\n",
              "       [<matplotlib.axes._subplots.AxesSubplot object at 0x7f6664ed45d0>,\n",
              "        <matplotlib.axes._subplots.AxesSubplot object at 0x7f6664e72c50>]],\n",
              "      dtype=object)"
            ]
          },
          "metadata": {
            "tags": []
          },
          "execution_count": 11
        },
        {
          "output_type": "display_data",
          "data": {
            "image/png": "[encoded data removed]",
            "text/plain": [
              "<Figure size 1440x1440 with 4 Axes>"
            ]
          },
          "metadata": {
            "tags": [],
            "needs_background": "light"
          }
        }
      ]
    },
    {
      "cell_type": "markdown",
      "metadata": {
        "id": "-E2BV7ea2rsJ"
      },
      "source": [
        "Skewness\n",
        "A left-skewed distribution has a long left tail. Left-skewed distributions are also called negatively-skewed distributions. That’s because there is a long tail in the negative direction on the number line. The mean is also to the left of the peak.\n",
        "\n",
        "A right-skewed distribution has a long right tail. Right-skewed distributions are also called positive-skew distributions. That’s because there is a long tail in the positive direction on the number line. The mean is also to the right of the peak.\n",
        "![pearson-mode-skewness.jpg](data:image/jpeg;base64,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)\n"
      ]
    },
    {
      "cell_type": "code",
      "metadata": {
        "id": "UW_WWcV3K0C0",
        "colab": {
          "base_uri": "https://localhost:8080/",
          "height": 358
        },
        "outputId": "ad21c70e-83d5-4ae7-e317-aa4b6265ebc7"
      },
      "source": [
        "df.loc[df['GlycoHemoglobin'] < 6.0, 'Diabetes'] = 0\n",
        "df.loc[(df['GlycoHemoglobin'] >= 6.0) & (df['GlycoHemoglobin'] <= 6.4), 'Diabetes'] = 1\n",
        "df.loc[df['GlycoHemoglobin'] >= 6.5, 'Diabetes'] = 2\n",
        "\n",
        "df.head(10)  "
      ],
      "execution_count": 12,
      "outputs": [
        {
          "output_type": "execute_result",
          "data": {
            "text/html": [
              "<div>\n",
              "<style scoped>\n",
              "    .dataframe tbody tr th:only-of-type {\n",
              "        vertical-align: middle;\n",
              "    }\n",
              "\n",
              "    .dataframe tbody tr th {\n",
              "        vertical-align: top;\n",
              "    }\n",
              "\n",
              "    .dataframe thead th {\n",
              "        text-align: right;\n",
              "    }\n",
              "</style>\n",
              "<table border=\"1\" class=\"dataframe\">\n",
              "  <thead>\n",
              "    <tr style=\"text-align: right;\">\n",
              "      <th></th>\n",
              "      <th>GlycoHemoglobin</th>\n",
              "      <th>ArmCircum</th>\n",
              "      <th>SaggitalAbdominal</th>\n",
              "      <th>GripStrength</th>\n",
              "      <th>Diabetes</th>\n",
              "    </tr>\n",
              "  </thead>\n",
              "  <tbody>\n",
              "    <tr>\n",
              "      <th>0</th>\n",
              "      <td>13.9</td>\n",
              "      <td>35.3</td>\n",
              "      <td>20.6</td>\n",
              "      <td>55.2</td>\n",
              "      <td>2.0</td>\n",
              "    </tr>\n",
              "    <tr>\n",
              "      <th>1</th>\n",
              "      <td>9.1</td>\n",
              "      <td>34.7</td>\n",
              "      <td>24.4</td>\n",
              "      <td>61.5</td>\n",
              "      <td>2.0</td>\n",
              "    </tr>\n",
              "    <tr>\n",
              "      <th>2</th>\n",
              "      <td>8.9</td>\n",
              "      <td>33.5</td>\n",
              "      <td>25.6</td>\n",
              "      <td>91.0</td>\n",
              "      <td>2.0</td>\n",
              "    </tr>\n",
              "    <tr>\n",
              "      <th>3</th>\n",
              "      <td>5.4</td>\n",
              "      <td>21.0</td>\n",
              "      <td>14.9</td>\n",
              "      <td>32.2</td>\n",
              "      <td>0.0</td>\n",
              "    </tr>\n",
              "    <tr>\n",
              "      <th>4</th>\n",
              "      <td>4.9</td>\n",
              "      <td>25.2</td>\n",
              "      <td>20.7</td>\n",
              "      <td>30.9</td>\n",
              "      <td>0.0</td>\n",
              "    </tr>\n",
              "    <tr>\n",
              "      <th>5</th>\n",
              "      <td>5.5</td>\n",
              "      <td>41.8</td>\n",
              "      <td>29.1</td>\n",
              "      <td>53.1</td>\n",
              "      <td>0.0</td>\n",
              "    </tr>\n",
              "    <tr>\n",
              "      <th>6</th>\n",
              "      <td>5.4</td>\n",
              "      <td>14.9</td>\n",
              "      <td>20.7</td>\n",
              "      <td>60.3</td>\n",
              "      <td>0.0</td>\n",
              "    </tr>\n",
              "    <tr>\n",
              "      <th>7</th>\n",
              "      <td>5.5</td>\n",
              "      <td>38.0</td>\n",
              "      <td>26.7</td>\n",
              "      <td>45.9</td>\n",
              "      <td>0.0</td>\n",
              "    </tr>\n",
              "    <tr>\n",
              "      <th>8</th>\n",
              "      <td>5.4</td>\n",
              "      <td>29.0</td>\n",
              "      <td>19.9</td>\n",
              "      <td>38.8</td>\n",
              "      <td>0.0</td>\n",
              "    </tr>\n",
              "    <tr>\n",
              "      <th>9</th>\n",
              "      <td>5.2</td>\n",
              "      <td>27.5</td>\n",
              "      <td>20.0</td>\n",
              "      <td>43.5</td>\n",
              "      <td>0.0</td>\n",
              "    </tr>\n",
              "  </tbody>\n",
              "</table>\n",
              "</div>"
            ],
            "text/plain": [
              "   GlycoHemoglobin  ArmCircum  SaggitalAbdominal  GripStrength  Diabetes\n",
              "0             13.9       35.3               20.6          55.2       2.0\n",
              "1              9.1       34.7               24.4          61.5       2.0\n",
              "2              8.9       33.5               25.6          91.0       2.0\n",
              "3              5.4       21.0               14.9          32.2       0.0\n",
              "4              4.9       25.2               20.7          30.9       0.0\n",
              "5              5.5       41.8               29.1          53.1       0.0\n",
              "6              5.4       14.9               20.7          60.3       0.0\n",
              "7              5.5       38.0               26.7          45.9       0.0\n",
              "8              5.4       29.0               19.9          38.8       0.0\n",
              "9              5.2       27.5               20.0          43.5       0.0"
            ]
          },
          "metadata": {
            "tags": []
          },
          "execution_count": 12
        }
      ]
    },
    {
      "cell_type": "code",
      "metadata": {
        "id": "iOA0uhqCK0HI",
        "colab": {
          "base_uri": "https://localhost:8080/",
          "height": 596
        },
        "outputId": "ae04db23-7487-47d9-f525-d1f529476611"
      },
      "source": [
        "colormap = plt.cm.viridis\n",
        "plt.figure(figsize=(10,10))\n",
        "sns.heatmap(df.astype(float).corr(), linewidths=0.1, vmax=1.0, square=True, cmap=colormap, annot=True)"
      ],
      "execution_count": 13,
      "outputs": [
        {
          "output_type": "execute_result",
          "data": {
            "text/plain": [
              "<matplotlib.axes._subplots.AxesSubplot at 0x7f6664d2f8d0>"
            ]
          },
          "metadata": {
            "tags": []
          },
          "execution_count": 13
        },
        {
          "output_type": "display_data",
          "data": {
            "image/png": "[encoded data removed]",
            "text/plain": [
              "<Figure size 720x720 with 2 Axes>"
            ]
          },
          "metadata": {
            "tags": [],
            "needs_background": "light"
          }
        }
      ]
    },
    {
      "cell_type": "code",
      "metadata": {
        "id": "ds9uIWSrK0Qm",
        "colab": {
          "base_uri": "https://localhost:8080/",
          "height": 450
        },
        "outputId": "fea448d1-ea75-401b-d554-d64c4f32cc0e"
      },
      "source": [
        "show = sns.pairplot(df, hue='Diabetes', size=1.5, diag_kind='kde')\n",
        "\n",
        "show.set(xticklabels=[])"
      ],
      "execution_count": 14,
      "outputs": [
        {
          "output_type": "execute_result",
          "data": {
            "text/plain": [
              "<seaborn.axisgrid.PairGrid at 0x7f665bfcb850>"
            ]
          },
          "metadata": {
            "tags": []
          },
          "execution_count": 14
        },
        {
          "output_type": "display_data",
          "data": {
            "image/png": "[encoded data removed]",
            "text/plain": [
              "<Figure size 484.375x432 with 20 Axes>"
            ]
          },
          "metadata": {
            "tags": [],
            "needs_background": "light"
          }
        }
      ]
    },
    {
      "cell_type": "code",
      "metadata": {
        "id": "C1OshZvr7IqS"
      },
      "source": [
        "from sklearn import linear_model\n",
        "from sklearn.svm import SVC\n",
        "from sklearn.model_selection import KFold\n",
        "from sklearn.metrics import mean_squared_error, r2_score"
      ],
      "execution_count": 15,
      "outputs": []
    },
    {
      "cell_type": "code",
      "metadata": {
        "colab": {
          "base_uri": "https://localhost:8080/",
          "height": 418
        },
        "id": "pxSW5zgf7I64",
        "outputId": "a846656e-c293-451a-818b-504f6b3be7ba"
      },
      "source": [
        "df.drop(['GlycoHemoglobin'], axis = 1, inplace=True)\n",
        "\n",
        "df.head(5)\n",
        "df"
      ],
      "execution_count": 16,
      "outputs": [
        {
          "output_type": "execute_result",
          "data": {
            "text/html": [
              "<div>\n",
              "<style scoped>\n",
              "    .dataframe tbody tr th:only-of-type {\n",
              "        vertical-align: middle;\n",
              "    }\n",
              "\n",
              "    .dataframe tbody tr th {\n",
              "        vertical-align: top;\n",
              "    }\n",
              "\n",
              "    .dataframe thead th {\n",
              "        text-align: right;\n",
              "    }\n",
              "</style>\n",
              "<table border=\"1\" class=\"dataframe\">\n",
              "  <thead>\n",
              "    <tr style=\"text-align: right;\">\n",
              "      <th></th>\n",
              "      <th>ArmCircum</th>\n",
              "      <th>SaggitalAbdominal</th>\n",
              "      <th>GripStrength</th>\n",
              "      <th>Diabetes</th>\n",
              "    </tr>\n",
              "  </thead>\n",
              "  <tbody>\n",
              "    <tr>\n",
              "      <th>0</th>\n",
              "      <td>35.3</td>\n",
              "      <td>20.6</td>\n",
              "      <td>55.2</td>\n",
              "      <td>2.0</td>\n",
              "    </tr>\n",
              "    <tr>\n",
              "      <th>1</th>\n",
              "      <td>34.7</td>\n",
              "      <td>24.4</td>\n",
              "      <td>61.5</td>\n",
              "      <td>2.0</td>\n",
              "    </tr>\n",
              "    <tr>\n",
              "      <th>2</th>\n",
              "      <td>33.5</td>\n",
              "      <td>25.6</td>\n",
              "      <td>91.0</td>\n",
              "      <td>2.0</td>\n",
              "    </tr>\n",
              "    <tr>\n",
              "      <th>3</th>\n",
              "      <td>21.0</td>\n",
              "      <td>14.9</td>\n",
              "      <td>32.2</td>\n",
              "      <td>0.0</td>\n",
              "    </tr>\n",
              "    <tr>\n",
              "      <th>4</th>\n",
              "      <td>25.2</td>\n",
              "      <td>20.7</td>\n",
              "      <td>30.9</td>\n",
              "      <td>0.0</td>\n",
              "    </tr>\n",
              "    <tr>\n",
              "      <th>...</th>\n",
              "      <td>...</td>\n",
              "      <td>...</td>\n",
              "      <td>...</td>\n",
              "      <td>...</td>\n",
              "    </tr>\n",
              "    <tr>\n",
              "      <th>9808</th>\n",
              "      <td>29.9</td>\n",
              "      <td>19.1</td>\n",
              "      <td>70.1</td>\n",
              "      <td>0.0</td>\n",
              "    </tr>\n",
              "    <tr>\n",
              "      <th>9809</th>\n",
              "      <td>14.7</td>\n",
              "      <td>20.7</td>\n",
              "      <td>60.3</td>\n",
              "      <td>0.0</td>\n",
              "    </tr>\n",
              "    <tr>\n",
              "      <th>9810</th>\n",
              "      <td>37.0</td>\n",
              "      <td>24.3</td>\n",
              "      <td>46.6</td>\n",
              "      <td>0.0</td>\n",
              "    </tr>\n",
              "    <tr>\n",
              "      <th>9811</th>\n",
              "      <td>19.0</td>\n",
              "      <td>20.7</td>\n",
              "      <td>20.8</td>\n",
              "      <td>0.0</td>\n",
              "    </tr>\n",
              "    <tr>\n",
              "      <th>9812</th>\n",
              "      <td>25.0</td>\n",
              "      <td>17.5</td>\n",
              "      <td>36.0</td>\n",
              "      <td>0.0</td>\n",
              "    </tr>\n",
              "  </tbody>\n",
              "</table>\n",
              "<p>9813 rows × 4 columns</p>\n",
              "</div>"
            ],
            "text/plain": [
              "      ArmCircum  SaggitalAbdominal  GripStrength  Diabetes\n",
              "0          35.3               20.6          55.2       2.0\n",
              "1          34.7               24.4          61.5       2.0\n",
              "2          33.5               25.6          91.0       2.0\n",
              "3          21.0               14.9          32.2       0.0\n",
              "4          25.2               20.7          30.9       0.0\n",
              "...         ...                ...           ...       ...\n",
              "9808       29.9               19.1          70.1       0.0\n",
              "9809       14.7               20.7          60.3       0.0\n",
              "9810       37.0               24.3          46.6       0.0\n",
              "9811       19.0               20.7          20.8       0.0\n",
              "9812       25.0               17.5          36.0       0.0\n",
              "\n",
              "[9813 rows x 4 columns]"
            ]
          },
          "metadata": {
            "tags": []
          },
          "execution_count": 16
        }
      ]
    },
    {
      "cell_type": "code",
      "metadata": {
        "colab": {
          "base_uri": "https://localhost:8080/"
        },
        "id": "CAP5NmQ07JD-",
        "outputId": "cad95087-30bf-48e2-a65a-9c22e6629dd4"
      },
      "source": [
        "#data -> attributes, target -> diabetes\n",
        "data = df.drop(['Diabetes'], axis=1)\n",
        "target = df[['Diabetes']]\n",
        "\n",
        "#seperate training set and test set\n",
        "train_X = data[:6000]\n",
        "test_X = data[6000:]\n",
        "train_Y = target[:6000]\n",
        "test_Y = target[6000:]\n",
        "\n",
        "#create linear regression obj\n",
        "lr_regr = linear_model.LinearRegression()\n",
        "\n",
        "#training via linear regression model\n",
        "lr_regr.fit(train_X, train_Y)\n",
        "\n",
        "#make prediction using the test set\n",
        "lr_pred_diabetes = lr_regr.predict(test_X)\n",
        "lr_score = lr_regr.score(test_X, test_Y)\n",
        "\n",
        "print('LRr_Coefficients: ', lr_regr.coef_)\n",
        "print('LR_Mean Square Error: %.2f' % mean_squared_error(test_Y, lr_pred_diabetes))\n",
        "print('LR_Variance score: %.2f' % r2_score(test_Y, lr_pred_diabetes))\n",
        "print('Score: %.2f' % lr_regr.score(test_X, test_Y))\n"
      ],
      "execution_count": 17,
      "outputs": [
        {
          "output_type": "stream",
          "text": [
            "LRr_Coefficients:  [[ 0.01118066  0.03576526 -0.00301398]]\n",
            "LR_Mean Square Error: 0.23\n",
            "LR_Variance score: 0.12\n",
            "Score: 0.12\n"
          ],
          "name": "stdout"
        }
      ]
    },
    {
      "cell_type": "code",
      "metadata": {
        "id": "WF4-I03V7zjL"
      },
      "source": [
        "from sklearn.cluster import KMeans"
      ],
      "execution_count": 18,
      "outputs": []
    },
    {
      "cell_type": "code",
      "metadata": {
        "colab": {
          "base_uri": "https://localhost:8080/"
        },
        "id": "HmZA_-ai7zxX",
        "outputId": "8e38ef44-8cf5-4588-9cd2-3db99faa3a14"
      },
      "source": [
        "kms = KMeans(n_clusters = 3, tol = 0.0005, algorithm=\"auto\")\n",
        "\n",
        "kms.fit_predict(train_X)\n",
        "\n",
        "print (\"parameters: \", kms.get_params)\n",
        "print (\"preict: \", kms.predict)\n",
        "print (\"\\nscore: %.2f\" % kms.score(test_X))"
      ],
      "execution_count": 19,
      "outputs": [
        {
          "output_type": "stream",
          "text": [
            "parameters:  <bound method BaseEstimator.get_params of KMeans(algorithm='auto', copy_x=True, init='k-means++', max_iter=300,\n",
            "       n_clusters=3, n_init=10, n_jobs=None, precompute_distances='auto',\n",
            "       random_state=None, tol=0.0005, verbose=0)>\n",
            "preict:  <bound method KMeans.predict of KMeans(algorithm='auto', copy_x=True, init='k-means++', max_iter=300,\n",
            "       n_clusters=3, n_init=10, n_jobs=None, precompute_distances='auto',\n",
            "       random_state=None, tol=0.0005, verbose=0)>\n",
            "\n",
            "score: -529332.36\n"
          ],
          "name": "stdout"
        }
      ]
    },
    {
      "cell_type": "code",
      "metadata": {
        "colab": {
          "base_uri": "https://localhost:8080/"
        },
        "id": "j0PAmsds7z0s",
        "outputId": "d55151f5-befa-4edd-dedc-c5624ce28ec2"
      },
      "source": [
        "from sklearn.ensemble import AdaBoostClassifier\n",
        "from sklearn.tree import DecisionTreeClassifier\n",
        "from sklearn.model_selection import cross_val_score\n",
        "\n",
        "#create adaboost classification obj\n",
        "ab_clf = AdaBoostClassifier(base_estimator=DecisionTreeClassifier(), n_estimators=100, \n",
        "                            learning_rate=0.5, random_state=100)\n",
        "\n",
        "#training via adaboost classficiation model\n",
        "ab_clf.fit(train_X, train_Y)\n",
        "print(\"training....\\n\")\n",
        "\n",
        "#make prediction using the test set\n",
        "ab_pred_diabetes = ab_clf.predict(test_X)\n",
        "print('prediction: \\n', ab_pred_diabetes)\n",
        "\n",
        "print('\\nparms: \\n', ab_clf.get_params)\n",
        "\n",
        "#predict probability\n",
        "#print('predict probability: %.2f' % ab_clf.staged_score(test_X, ab_pred_diabetes))\n",
        "\n",
        "#score\n",
        "ab_clf_score = ab_clf.score(test_X, test_Y)\n",
        "print(\"\\nmean accuracy: %.2f\" % ab_clf.score(test_X, test_Y))"
      ],
      "execution_count": 20,
      "outputs": [
        {
          "output_type": "stream",
          "text": [
            "training....\n",
            "\n",
            "prediction: \n",
            " [0. 0. 0. ... 0. 0. 0.]\n",
            "\n",
            "parms: \n",
            " <bound method BaseEstimator.get_params of AdaBoostClassifier(algorithm='SAMME.R',\n",
            "                   base_estimator=DecisionTreeClassifier(ccp_alpha=0.0,\n",
            "                                                         class_weight=None,\n",
            "                                                         criterion='gini',\n",
            "                                                         max_depth=None,\n",
            "                                                         max_features=None,\n",
            "                                                         max_leaf_nodes=None,\n",
            "                                                         min_impurity_decrease=0.0,\n",
            "                                                         min_impurity_split=None,\n",
            "                                                         min_samples_leaf=1,\n",
            "                                                         min_samples_split=2,\n",
            "                                                         min_weight_fraction_leaf=0.0,\n",
            "                                                         presort='deprecated',\n",
            "                                                         random_state=None,\n",
            "                                                         splitter='best'),\n",
            "                   learning_rate=0.5, n_estimators=100, random_state=100)>\n",
            "\n",
            "mean accuracy: 0.85\n"
          ],
          "name": "stdout"
        }
      ]
    },
    {
      "cell_type": "code",
      "metadata": {
        "id": "AM71jxWS7JQu"
      },
      "source": [
        "from sklearn.ensemble import BaggingClassifier\n",
        "from sklearn.neighbors import KNeighborsClassifier"
      ],
      "execution_count": 21,
      "outputs": []
    },
    {
      "cell_type": "code",
      "metadata": {
        "colab": {
          "base_uri": "https://localhost:8080/"
        },
        "id": "WgjR3ldd8Ksr",
        "outputId": "fd3db893-42b7-4ec8-91a0-b656b396db78"
      },
      "source": [
        "bagging = BaggingClassifier(base_estimator= DecisionTreeClassifier(), max_samples = 0.5, max_features = 0.5, \n",
        "                            bootstrap = False, bootstrap_features = False)\n",
        "\n",
        "bagging.fit(train_X, train_Y)\n",
        "bg_pred_diabetes = bagging.predict(test_X)\n",
        "\n",
        "bg_dt_score = bagging.score(test_X, test_Y)\n",
        "bagging.score(test_X, test_Y)"
      ],
      "execution_count": 22,
      "outputs": [
        {
          "output_type": "execute_result",
          "data": {
            "text/plain": [
              "0.8788355625491738"
            ]
          },
          "metadata": {
            "tags": []
          },
          "execution_count": 22
        }
      ]
    },
    {
      "cell_type": "code",
      "metadata": {
        "colab": {
          "base_uri": "https://localhost:8080/"
        },
        "id": "YJT-ZaMq8Kzn",
        "outputId": "05e6b345-6e9c-4872-a938-0d3ee5899097"
      },
      "source": [
        "bagging = BaggingClassifier(base_estimator= KNeighborsClassifier(), max_samples = 0.5, max_features = 0.5, \n",
        "                            bootstrap = False, bootstrap_features = False)\n",
        "\n",
        "bagging.fit(train_X, train_Y)\n",
        "bg_pred_diabetes = bagging.predict(test_X)\n",
        "\n",
        "bg_score = bagging.score(test_X, test_Y)\n",
        "bagging.score(test_X, test_Y)"
      ],
      "execution_count": 23,
      "outputs": [
        {
          "output_type": "execute_result",
          "data": {
            "text/plain": [
              "0.8806713873590348"
            ]
          },
          "metadata": {
            "tags": []
          },
          "execution_count": 23
        }
      ]
    },
    {
      "cell_type": "code",
      "metadata": {
        "id": "Vh8c-tWy8K3C"
      },
      "source": [
        "from sklearn.neural_network import MLPClassifier"
      ],
      "execution_count": 24,
      "outputs": []
    },
    {
      "cell_type": "code",
      "metadata": {
        "colab": {
          "base_uri": "https://localhost:8080/"
        },
        "id": "qwfQEQnX8VtJ",
        "outputId": "9ff943e1-34fb-4e50-bddf-ca90aa4fcaed"
      },
      "source": [
        "mlp = MLPClassifier(hidden_layer_sizes=(1000, 300, 300), solver='adam', shuffle=False, tol = 0.0001)\n",
        "\n",
        "mlp.fit(train_X, train_Y)\n",
        "mlp_pred_diabetes = mlp.predict(test_X)\n",
        "\n",
        "print(\"parameter: \", mlp.get_params())\n",
        "\n",
        "mlp_score = mlp.score(test_X, test_Y)\n",
        "mlp.score(test_X, test_Y)"
      ],
      "execution_count": 25,
      "outputs": [
        {
          "output_type": "stream",
          "text": [
            "parameter:  {'activation': 'relu', 'alpha': 0.0001, 'batch_size': 'auto', 'beta_1': 0.9, 'beta_2': 0.999, 'early_stopping': False, 'epsilon': 1e-08, 'hidden_layer_sizes': (1000, 300, 300), 'learning_rate': 'constant', 'learning_rate_init': 0.001, 'max_fun': 15000, 'max_iter': 200, 'momentum': 0.9, 'n_iter_no_change': 10, 'nesterovs_momentum': True, 'power_t': 0.5, 'random_state': None, 'shuffle': False, 'solver': 'adam', 'tol': 0.0001, 'validation_fraction': 0.1, 'verbose': False, 'warm_start': False}\n"
          ],
          "name": "stdout"
        },
        {
          "output_type": "execute_result",
          "data": {
            "text/plain": [
              "0.8780487804878049"
            ]
          },
          "metadata": {
            "tags": []
          },
          "execution_count": 25
        }
      ]
    },
    {
      "cell_type": "code",
      "metadata": {
        "colab": {
          "base_uri": "https://localhost:8080/",
          "height": 204
        },
        "id": "OJuVh--28V3U",
        "outputId": "2a04be66-5bb7-4348-f9e9-338ab38aedbc"
      },
      "source": [
        "d = {'Model': ['Linear Regression', 'Adaboost', 'Bagging_decision tree based', 'Bagging_KNeighbors', 'MLP'],\n",
        "     'accuracy' : [lr_score, ab_clf_score, bg_dt_score, bg_score, mlp_score]}\n",
        "\n",
        "result_df = pd.DataFrame(data = d)\n",
        "result_df"
      ],
      "execution_count": 26,
      "outputs": [
        {
          "output_type": "execute_result",
          "data": {
            "text/html": [
              "<div>\n",
              "<style scoped>\n",
              "    .dataframe tbody tr th:only-of-type {\n",
              "        vertical-align: middle;\n",
              "    }\n",
              "\n",
              "    .dataframe tbody tr th {\n",
              "        vertical-align: top;\n",
              "    }\n",
              "\n",
              "    .dataframe thead th {\n",
              "        text-align: right;\n",
              "    }\n",
              "</style>\n",
              "<table border=\"1\" class=\"dataframe\">\n",
              "  <thead>\n",
              "    <tr style=\"text-align: right;\">\n",
              "      <th></th>\n",
              "      <th>Model</th>\n",
              "      <th>accuracy</th>\n",
              "    </tr>\n",
              "  </thead>\n",
              "  <tbody>\n",
              "    <tr>\n",
              "      <th>0</th>\n",
              "      <td>Linear Regression</td>\n",
              "      <td>0.123966</td>\n",
              "    </tr>\n",
              "    <tr>\n",
              "      <th>1</th>\n",
              "      <td>Adaboost</td>\n",
              "      <td>0.847364</td>\n",
              "    </tr>\n",
              "    <tr>\n",
              "      <th>2</th>\n",
              "      <td>Bagging_decision tree based</td>\n",
              "      <td>0.878836</td>\n",
              "    </tr>\n",
              "    <tr>\n",
              "      <th>3</th>\n",
              "      <td>Bagging_KNeighbors</td>\n",
              "      <td>0.880671</td>\n",
              "    </tr>\n",
              "    <tr>\n",
              "      <th>4</th>\n",
              "      <td>MLP</td>\n",
              "      <td>0.878049</td>\n",
              "    </tr>\n",
              "  </tbody>\n",
              "</table>\n",
              "</div>"
            ],
            "text/plain": [
              "                         Model  accuracy\n",
              "0            Linear Regression  0.123966\n",
              "1                     Adaboost  0.847364\n",
              "2  Bagging_decision tree based  0.878836\n",
              "3           Bagging_KNeighbors  0.880671\n",
              "4                          MLP  0.878049"
            ]
          },
          "metadata": {
            "tags": []
          },
          "execution_count": 26
        }
      ]
    },
    {
      "cell_type": "code",
      "metadata": {
        "id": "JJaGyFoL8V-h",
        "colab": {
          "base_uri": "https://localhost:8080/",
          "height": 665
        },
        "outputId": "5e682225-e8eb-46e6-b68f-e66383e23d43"
      },
      "source": [
        "result_df.plot(x='Model', y='accuracy', kind='bar', figsize=(8, 8), title='Diabetes Prediction Accuracy', \n",
        "               sort_columns=True)"
      ],
      "execution_count": 27,
      "outputs": [
        {
          "output_type": "execute_result",
          "data": {
            "text/plain": [
              "<matplotlib.axes._subplots.AxesSubplot at 0x7f6655df6c50>"
            ]
          },
          "metadata": {
            "tags": []
          },
          "execution_count": 27
        },
        {
          "output_type": "display_data",
          "data": {
            "image/png": "[encoded data removed]",
            "text/plain": [
              "<Figure size 576x576 with 1 Axes>"
            ]
          },
          "metadata": {
            "tags": [],
            "needs_background": "light"
          }
        }
      ]
    }
  ]
}